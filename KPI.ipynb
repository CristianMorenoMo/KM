{
 "cells": [
  {
   "cell_type": "code",
   "execution_count": null,
   "id": "abandoned-asbestos",
   "metadata": {},
   "outputs": [],
   "source": [
    "### Credencials \n",
    "import mysql.connector\n",
    "from mysql.connector import Error\n",
    "\n",
    "try:\n",
    "    connection = mysql.connector.connect(host='localhost',\n",
    "                                         database='Electronics',\n",
    "                                         user='pynative',\n",
    "                                         password='pynative@#29')\n",
    "    if connection.is_connected():\n",
    "        db_Info = connection.get_server_info()\n",
    "        print(\"Connected to MySQL Server version \", db_Info)\n",
    "        cursor = connection.cursor()\n",
    "        cursor.execute(\"select database();\")\n",
    "        record = cursor.fetchone()\n",
    "        print(\"You're connected to database: \", record)\n",
    "\n",
    "except Error as e:\n",
    "    print(\"Error while connecting to MySQL\", e)\n",
    "finally:\n",
    "    if connection.is_connected():\n",
    "        cursor.close()\n",
    "        connection.close()\n",
    "        print(\"MySQL connection is closed\")"
   ]
  },
  {
   "cell_type": "code",
   "execution_count": null,
   "id": "occupational-peninsula",
   "metadata": {},
   "outputs": [],
   "source": [
    "### querys de las tablas\n",
    "Consumo_Cloud = \n",
    "Presupuesto = \n",
    "Cumplimiento_ANS = \n",
    "Disponibilidad ="
   ]
  },
  {
   "cell_type": "code",
   "execution_count": null,
   "id": "bigger-candy",
   "metadata": {},
   "outputs": [],
   "source": [
    "#### transformaciones de Consumo\n",
    "Consumo facturado por Ambiente por mes:\n",
    "AWS (Infraestructura)+ Servicios (Aviator o Navigator)\n",
    "Consumo Facturado por Producto por mes:\n",
    "Suma de todos los ambientes más ARMOR\n",
    "Presupuesto por Producto por mes:\n",
    "Presupuesto anual por cad producto / meses de ejecución en el año\n",
    "Proyección consumo por Ambiente por mes:\n",
    "AWS (Infraestructura)+ Servicios (Aviator o Navigator)\n",
    "Proyección consumo por Producto por mes\n",
    "Suma de todos los ambientes más ARMOR\n",
    "Presupuesto disponible por Producto por mes:\n",
    "Presupuesto por producto por mes - Consumo facturado por producto\n",
    "Presupuesto disponible por Vicepresidencia TI por mes:\n",
    "Suma del presupuesto disponible de todos los productos\n"
   ]
  }
 ],
 "metadata": {
  "kernelspec": {
   "display_name": "Python 3",
   "language": "python",
   "name": "python3"
  },
  "language_info": {
   "codemirror_mode": {
    "name": "ipython",
    "version": 3
   },
   "file_extension": ".py",
   "mimetype": "text/x-python",
   "name": "python",
   "nbconvert_exporter": "python",
   "pygments_lexer": "ipython3",
   "version": "3.7.9"
  }
 },
 "nbformat": 4,
 "nbformat_minor": 5
}
